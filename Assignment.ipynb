{
 "cells": [
  {
   "cell_type": "markdown",
   "metadata": {},
   "source": [
    "In your Python script, import matplotlib.pyplot, DecisionTreeClassifier, and plot_tree"
   ]
  },
  {
   "cell_type": "markdown",
   "metadata": {},
   "source": [
    "Create Your Dataset: Encode your choices for snacks into a simple dataset. Use numerical representations for choices."
   ]
  },
  {
   "cell_type": "markdown",
   "metadata": {},
   "source": [
    "Train the Decision Tree: Create a DecisionTreeClassifier instance and fit it to your dataset."
   ]
  },
  {
   "cell_type": "markdown",
   "metadata": {},
   "source": [
    "\n",
    "\n",
    "DecisionTreeClassifier(random_state=123)\n",
    "\n",
    "In a Jupyter environment, please rerun this cell to show the HTML representation or trust the notebook.\n",
    "On GitHub, the HTML representation is unable to render, please try loading this page with nbviewer.org.\n",
    "\n",
    "Visualize the Decision Tree: Use plot_tree from scikit-learn to visualize the trained decision tree.\n"
   ]
  },
  {
   "cell_type": "markdown",
   "metadata": {},
   "source": [
    "Make a Prediction: Create a new observation and use the decision tree to make a prediction."
   ]
  },
  {
   "cell_type": "markdown",
   "metadata": {},
   "source": [
    "Display the Prediction: Map the prediction back to snack names and print the result."
   ]
  },
  {
   "cell_type": "markdown",
   "metadata": {},
   "source": [
    "\n",
    "\n",
    "The decision tree has predicted that the ideal snack choice would be: Apple\n"
   ]
  }
 ],
 "metadata": {
  "language_info": {
   "name": "python"
  }
 },
 "nbformat": 4,
 "nbformat_minor": 2
}

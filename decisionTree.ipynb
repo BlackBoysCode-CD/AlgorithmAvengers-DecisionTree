{
 "cells": [
  {
   "cell_type": "markdown",
   "metadata": {},
   "source": [
    "1. Import Libraries\n",
    "First, we import necessary libraries. \n",
    "matplotlib.pyplot is used for plotting, and DecisionTreeClassifier, plot_tree from sklearn.tree are used for creating and visualizing the decision tree classifier."
   ]
  },
  {
   "cell_type": "markdown",
   "metadata": {},
   "source": [
    "2. Prepare Data\n",
    "Next, we encode the features and prepare the target variable. \n",
    "This involves setting up the dataset for training the decision tree. \n",
    "The features include content type, posting time, and previous interaction with the poster, while the target is whether the content was liked."
   ]
  },
  {
   "cell_type": "markdown",
   "metadata": {},
   "source": [
    "3. Train the Decision Tree Classifier\n",
    "In this section, we train the decision tree classifier using the prepared data. \n",
    "We also set a random state for reproducibility."
   ]
  },
  {
   "cell_type": "markdown",
   "metadata": {},
   "source": [
    "4. Visualize the Decision Tree\n",
    "Now, let's visualize the trained decision tree to understand how it makes decisions based on the input features."
   ]
  },
  {
   "cell_type": "markdown",
   "metadata": {},
   "source": [
    "5. Make Predictions\n",
    "Finally, we use the trained model to make predictions on new observations. \n",
    "Here, we predict whether a video posted in the afternoon with high previous interaction will be liked."
   ]
  }
 ],
 "metadata": {
  "kernelspec": {
   "display_name": "Python 3",
   "language": "python",
   "name": "python3"
  },
  "language_info": {
   "codemirror_mode": {
    "name": "ipython",
    "version": 3
   },
   "file_extension": ".py",
   "mimetype": "text/x-python",
   "name": "python",
   "nbconvert_exporter": "python",
   "pygments_lexer": "ipython3",
   "version": "3.10.13"
  }
 },
 "nbformat": 4,
 "nbformat_minor": 2
}
